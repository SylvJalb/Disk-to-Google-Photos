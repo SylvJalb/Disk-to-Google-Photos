{
 "cells": [
  {
   "attachments": {},
   "cell_type": "markdown",
   "metadata": {},
   "source": [
    "# Traitement des photos/videos\n",
    "TO DO:  \n",
    "- Récupérer les fichiers qui ont des formats compatibles\n",
    "- Mettre les noms des dossiers parents dans les descriptions des photo/video\n",
    "- Verifier les dates des photos/videos (avec les années -> nom du 1er dossier)\n",
    "- Verifier les formats des photos/videos (avec les extensions compatibles google photos)\n",
    "- Mettre les photos/videos dans un seul dossier"
   ]
  },
  {
   "cell_type": "markdown",
   "metadata": {},
   "source": [
    "## Paramètres"
   ]
  },
  {
   "cell_type": "code",
   "execution_count": 1,
   "metadata": {},
   "outputs": [],
   "source": [
    "dir = \"./outputs/Photos_pour_Drive\"\n",
    "output_dir = \"./outputs/Photos_traitees\"\n",
    "output_bad_date_file = \"./outputs/output_bad_date.txt\"\n",
    "output_bad_format_file = \"./outputs/output_bad_format.txt\"\n",
    "output_video_file = \"./outputs/output_video.txt\"\n",
    "output_csv_file = \"./outputs/output.csv\"\n",
    "output_error_file = \"./outputs/output_error.txt\"\n",
    "# extensions compatibles google photos\n",
    "extensions_photo = [\"BMP\", \"GIF\", \"HEIC\", \"ICO\", \"JPG\", \"PNG\", \"TIFF\", \"WEBP\", \"RAW\", \"JPEG\"]\n",
    "extensions_video = [\"3GP\", \"3G2\", \"ASF\", \"AVI\", \"DIVX\", \"M2T\", \"M2TS\", \"M4V\", \"MKV\", \"MMV\", \"MOD\", \"MOV\", \"MP4\", \"MPG\", \"MTS\", \"TOD\", \"WMV\"]"
   ]
  },
  {
   "cell_type": "markdown",
   "metadata": {},
   "source": [
    "## Traitement des photos/videos"
   ]
  },
  {
   "cell_type": "code",
   "execution_count": 2,
   "metadata": {},
   "outputs": [],
   "source": [
    "import os\n",
    "import time\n",
    "from PIL import Image\n",
    "import piexif\n",
    "import shutil"
   ]
  },
  {
   "cell_type": "code",
   "execution_count": 5,
   "metadata": {},
   "outputs": [],
   "source": [
    "def check_format(url_file):\n",
    "    extension = url_file.split(\".\")[-1].upper()\n",
    "    if extension in extensions_photo:\n",
    "        return \"photo\"\n",
    "    elif extension in extensions_video:\n",
    "        return \"video\"\n",
    "    else:\n",
    "        return \"other\"\n",
    "\n",
    "def set_date_photo(url_file, url_new_file, last_date):\n",
    "    annee = url_file.split(\" - \")[0][-4:]\n",
    "    date_creation = None\n",
    "\n",
    "    # open file\n",
    "    img = Image.open(url_file)\n",
    "    \n",
    "    # get date creation\n",
    "    date_creation = img.info.get(\"date_original\")\n",
    "    if date_creation is None or date_creation == \"0000:00:00 00:00:00\":\n",
    "        date_creation = img.info.get(\"date_digitized\")\n",
    "        if date_creation is None or date_creation == \"0000:00:00 00:00:00\":\n",
    "            date_creation = img.info.get(\"date_created\")\n",
    "            if date_creation == \"0000:00:00 00:00:00\":\n",
    "                date_creation = None\n",
    "    if date_creation is None and os.path.getmtime(url_file) is not None:\n",
    "        date_creation = os.path.getmtime(url_file)\n",
    "        if date_creation is None and os.path.getctime(url_file) is not None:\n",
    "            date_creation = os.path.getctime(url_file)\n",
    "            if date_creation is None and os.path.getatime(url_file) is not None:\n",
    "                date_creation = os.path.getatime(url_file)\n",
    "        if date_creation is not None:\n",
    "            date_creation = time.strftime(\"%Y:%m:%d %H:%M:%S\", time.gmtime(date_creation))\n",
    "    # get year of date_creation\n",
    "    year = date_creation.split(\":\")[0]\n",
    "    # CHECK YEAR\n",
    "    if year != annee:\n",
    "        print(\"\\t\\t\\t/!\\ BAD YEAR -> \" + year + \" != \" + annee)\n",
    "        # set date at the last date if it is set\n",
    "        if last_date.split(\":\")[0] == annee:\n",
    "            date_creation = last_date\n",
    "            print(\"\\t\\t\\t\\tSET TO LAST DATE\")\n",
    "        else:\n",
    "            date_creation = annee + \":01:01 12:01:01\"\n",
    "            print(\"\\t\\t\\t\\t/!\\ NO LAST DATE\")\n",
    "\n",
    "        # write in output_bad_date file\n",
    "        with open(output_bad_date_file, 'a') as f:\n",
    "            f.write(url_new_file + \"  ->  \" + date_creation + \"\\n\")\n",
    "    \n",
    "    print(\"\\t\\t\\tdate_creation: \" + date_creation)\n",
    "\n",
    "    exif_dict = piexif.load(url_file)\n",
    "    # set date_creation\n",
    "    exif_dict[\"0th\"][piexif.ImageIFD.DateTime] = date_creation\n",
    "    exif_dict[\"Exif\"][piexif.ExifIFD.DateTimeOriginal] = date_creation\n",
    "    exif_dict[\"Exif\"][piexif.ExifIFD.DateTimeDigitized] = date_creation\n",
    "\n",
    "    return date_creation"
   ]
  },
  {
   "cell_type": "code",
   "execution_count": 7,
   "metadata": {},
   "outputs": [
    {
     "name": "stdout",
     "output_type": "stream",
     "text": [
      "\t\t\t/!\\ BAD YEAR -> 2019 != 1978\n",
      "\t\t\t\t/!\\ NO LAST DATE\n",
      "\t\t\tdate_creation: 1978:01:01 12:01:01\n"
     ]
    },
    {
     "data": {
      "text/plain": [
       "'1978:01:01 12:01:01'"
      ]
     },
     "execution_count": 7,
     "metadata": {},
     "output_type": "execute_result"
    }
   ],
   "source": [
    "set_date_photo(\"./inputs/photos/.../name.jpg\", output_dir, \"\")"
   ]
  },
  {
   "cell_type": "code",
   "execution_count": null,
   "metadata": {},
   "outputs": [],
   "source": [
    "def save_file(path, album, description = \"\"):\n",
    "    # check format\n",
    "    # check date\n",
    "    # save file\n",
    "    # write in output_csv file"
   ]
  },
  {
   "cell_type": "code",
   "execution_count": null,
   "metadata": {},
   "outputs": [],
   "source": [
    "albums = []\n",
    "# parcour du dossier Photos\n",
    "for elt in os.listdir(dir):\n",
    "    albums.append(elt)\n",
    "# order folder by number asc\n",
    "albums.sort(key=lambda x: int(x[:4]))\n",
    "\n",
    "for album in albums:\n",
    "    print(\"Album : \" + album)\n",
    "    # parcour du dossier album\n",
    "    for elt in os.listdir(dir + \"/\" + album):\n",
    "        # si c'est un fichier\n",
    "        if os.path.isfile(dir + \"/\" + album + \"/\" + elt):\n",
    "            # save file\n",
    "            save_file(dir + \"/\" + album + \"/\" + elt, album)\n",
    "        # si c'est un dossier\n",
    "        else:\n",
    "            for elt_elt in os.listdir(dir + \"/\" + album + \"/\" + elt):\n",
    "                # si c'est un fichier\n",
    "                if os.path.isfile(dir + \"/\" + album + \"/\" + elt + \"/\" + elt_elt):\n",
    "                    # save file\n",
    "                    save_file(dir + \"/\" + album + \"/\" + elt + \"/\" + elt_elt, album, elt)"
   ]
  },
  {
   "cell_type": "markdown",
   "metadata": {},
   "source": [
    "## Verifications & Modifications manuelles\n",
    "..."
   ]
  },
  {
   "cell_type": "code",
   "execution_count": null,
   "metadata": {},
   "outputs": [],
   "source": [
    "import shutil"
   ]
  },
  {
   "cell_type": "code",
   "execution_count": null,
   "metadata": {},
   "outputs": [],
   "source": [
    "count = 18680\n",
    "output_dir = \"Photos_traitees\"\n",
    "dir = \"./inputs/.../dir\"\n",
    "files = os.listdir(dir)\n",
    "for elt in files:\n",
    "    shutil.copy(dir + \"/\" + elt, output_dir + \"/\" + str(count).zfill(6) + \".\" + elt.split(\".\")[-1])\n",
    "    count += 1"
   ]
  },
  {
   "attachments": {},
   "cell_type": "markdown",
   "metadata": {},
   "source": [
    "## Upload des photos/videos dans Google Photos\n",
    "Dans un description appelé \"Photos famille\" (A créer au préalable)\n",
    "Nom du dossier + nom de la photo/video = description\n",
    "\n",
    "Utilisation de l'api de Google Photos (REST API):\n",
    "```json\n",
    "{\n",
    "  \"albumId\": \"AC1QipO2LGKakWY41bgvGoB2irBVkzY51JCjB1uC4s3c\",\n",
    "  \"newMediaItems\": [\n",
    "    {\n",
    "      \"description\": \"###########\",\n",
    "      \"simpleMediaItem\": {\n",
    "        \"fileName\": \"###########\",\n",
    "        \"uploadToken\": \"###########\"\n",
    "      }\n",
    "    }\n",
    "   , ...\n",
    "  ]\n",
    "}\n",
    "```"
   ]
  },
  {
   "cell_type": "markdown",
   "metadata": {},
   "source": [
    "### Imports"
   ]
  },
  {
   "cell_type": "code",
   "execution_count": null,
   "metadata": {},
   "outputs": [],
   "source": [
    "import os\n",
    "import pickle\n",
    "import requests\n",
    "import pandas as pd\n",
    "from Google import Create_Service\n",
    "\n",
    "directory = \"Photos\"\n",
    "output_dir = \"Photos_traitees\"\n",
    "output_bad_date_file = \"./outputs/output_bad_date.txt\"\n",
    "output_bad_format_file = \"./outputs/output_bad_format.txt\"\n",
    "output_video_file = \"./outputs/output_video.txt\"\n",
    "output_csv_file = \"./outputs/output.csv\"\n",
    "output_error_file = \"./outputs/output_error.txt\"\n",
    "# extensions compatibles google photos\n",
    "extensions_photo = [\"BMP\", \"GIF\", \"HEIC\", \"ICO\", \"JPG\", \"PNG\", \"TIFF\", \"WEBP\", \"RAW\"]\n",
    "extensions_video = [\"3GP\", \"3G2\", \"ASF\", \"AVI\", \"DIVX\", \"M2T\", \"M2TS\", \"M4V\", \"MKV\", \"MMV\", \"MOD\", \"MOV\", \"MP4\", \"MPG\", \"MTS\", \"TOD\", \"WMV\"]"
   ]
  },
  {
   "cell_type": "markdown",
   "metadata": {},
   "source": [
    "### Preparation google"
   ]
  },
  {
   "cell_type": "code",
   "execution_count": null,
   "metadata": {},
   "outputs": [],
   "source": [
    "CLIENT_SECRET_FILE = 'code_secret_client.json'\n",
    "API_NAME = 'photoslibrary'\n",
    "API_VERSION = 'v1'\n",
    "SCOPES =['https://www.googleapis.com/auth/photoslibrary']"
   ]
  },
  {
   "cell_type": "code",
   "execution_count": null,
   "metadata": {},
   "outputs": [],
   "source": [
    "service = Create_Service(CLIENT_SECRET_FILE, API_NAME, API_VERSION, SCOPES)\n",
    "print(dir(service))"
   ]
  },
  {
   "cell_type": "code",
   "execution_count": null,
   "metadata": {},
   "outputs": [],
   "source": [
    "# create album\n",
    "# body = {\n",
    "#     'album': {\n",
    "#         'title': \"Photos Famille\"\n",
    "#     }\n",
    "# }\n",
    "# service.albums().create(body=body).execute()"
   ]
  },
  {
   "cell_type": "markdown",
   "metadata": {},
   "source": [
    "### Recuperation des données"
   ]
  },
  {
   "cell_type": "code",
   "execution_count": null,
   "metadata": {},
   "outputs": [],
   "source": [
    "df_all = pd.read_csv(output_csv_file)\n",
    "df_all[\"description\"] = df_all[\"description\"].fillna(\"\")\n",
    "df_all"
   ]
  },
  {
   "cell_type": "code",
   "execution_count": null,
   "metadata": {},
   "outputs": [],
   "source": [
    "df = df_all[15076:]\n",
    "df"
   ]
  },
  {
   "cell_type": "markdown",
   "metadata": {},
   "source": [
    "### Upload sur Google Photos"
   ]
  },
  {
   "cell_type": "code",
   "execution_count": null,
   "metadata": {},
   "outputs": [],
   "source": [
    "\n",
    "# step 1: Upload byte data to Google Server\n",
    "\n",
    "image_dir = os.path.join(os.getcwd(), output_dir)\n",
    "upload_url = 'https://photoslibrary.googleapis.com/v1/uploads'\n",
    "token = pickle.load(open('token_photoslibrary_v1.pickle', 'rb'))\n",
    "\n",
    "headers = {\n",
    "    'Authorization': 'Bearer ' + token.token,\n",
    "    'Content-type': 'application/octet-stream',\n",
    "    'X-Goog-Upload-Protocol': 'raw'\n",
    "}\n",
    "\n",
    "df[\"response\"] = \"\"\n",
    "# if type(df[\"description\"]) != string, convert it to string \"\"\n",
    "df[\"description\"] = df[\"description\"].astype(str)\n",
    "\n",
    "# parcour df 40 rows by 40 rows in dataframes names ddf\n",
    "ddf = pd.DataFrame()\n",
    "for i in range(0, len(df), 40):\n",
    "    ddf = df.iloc[i:i+40]\n",
    "    for index, row in ddf.iterrows():\n",
    "        image_file = \"./\" + row[\"url\"]\n",
    "        image_name = image_file.split(\"/\")[-1]\n",
    "\n",
    "        headers['X-Goog-Upload-File-Name'] = image_name\n",
    "\n",
    "        with open(image_file, 'rb') as f:\n",
    "            img = f.read()\n",
    "            f.close()\n",
    "        row[\"response\"] = requests.post(upload_url, data=img, headers=headers)\n",
    "\n",
    "    print(ddf)\n",
    "\n",
    "    request_body  = {\n",
    "        \"albumId\": \"**********************\",\n",
    "        'newMediaItems': [\n",
    "            {\n",
    "                'description': row[\"description\"],\n",
    "                'simpleMediaItem': {\n",
    "                    'uploadToken': row[\"response\"].content.decode('utf-8')\n",
    "                }\n",
    "            } for index, row in ddf.iterrows()\n",
    "        ]\n",
    "    }\n",
    "\n",
    "    upload_response = service.mediaItems().batchCreate(body=request_body).execute()\n",
    "    print(upload_response)\n"
   ]
  }
 ],
 "metadata": {
  "kernelspec": {
   "display_name": "Python 3.10.2 64-bit ('3.10.2')",
   "language": "python",
   "name": "python3"
  },
  "language_info": {
   "codemirror_mode": {
    "name": "ipython",
    "version": 3
   },
   "file_extension": ".py",
   "mimetype": "text/x-python",
   "name": "python",
   "nbconvert_exporter": "python",
   "pygments_lexer": "ipython3",
   "version": "3.10.2"
  },
  "orig_nbformat": 4,
  "vscode": {
   "interpreter": {
    "hash": "ccf92150953f609d454ae0a4b6c413cff267d0741708f181147c5bbaf1295817"
   }
  }
 },
 "nbformat": 4,
 "nbformat_minor": 2
}
